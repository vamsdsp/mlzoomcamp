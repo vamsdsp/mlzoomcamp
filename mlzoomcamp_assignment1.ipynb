{
 "cells": [
  {
   "cell_type": "code",
   "execution_count": 5,
   "id": "fbc121e30a2defb3",
   "metadata": {
    "ExecuteTime": {
     "end_time": "2025-09-21T07:55:24.570405Z",
     "start_time": "2025-09-21T07:55:24.550685Z"
    }
   },
   "outputs": [
    {
     "data": {
      "text/plain": [
       "'2.2.3'"
      ]
     },
     "execution_count": 5,
     "metadata": {},
     "output_type": "execute_result"
    }
   ],
   "source": [
    "#Q1 get pandas version\n",
    "\n",
    "import pandas as pd\n",
    "pd.__version__"
   ]
  },
  {
   "cell_type": "code",
   "execution_count": 2,
   "id": "ae882b8ccf57ba64",
   "metadata": {
    "ExecuteTime": {
     "end_time": "2025-09-21T07:52:58.980306Z",
     "start_time": "2025-09-21T07:52:58.393391Z"
    }
   },
   "outputs": [
    {
     "data": {
      "text/html": [
       "<div>\n",
       "<style scoped>\n",
       "    .dataframe tbody tr th:only-of-type {\n",
       "        vertical-align: middle;\n",
       "    }\n",
       "\n",
       "    .dataframe tbody tr th {\n",
       "        vertical-align: top;\n",
       "    }\n",
       "\n",
       "    .dataframe thead th {\n",
       "        text-align: right;\n",
       "    }\n",
       "</style>\n",
       "<table border=\"1\" class=\"dataframe\">\n",
       "  <thead>\n",
       "    <tr style=\"text-align: right;\">\n",
       "      <th></th>\n",
       "      <th>engine_displacement</th>\n",
       "      <th>num_cylinders</th>\n",
       "      <th>horsepower</th>\n",
       "      <th>vehicle_weight</th>\n",
       "      <th>acceleration</th>\n",
       "      <th>model_year</th>\n",
       "      <th>num_doors</th>\n",
       "      <th>fuel_efficiency_mpg</th>\n",
       "    </tr>\n",
       "  </thead>\n",
       "  <tbody>\n",
       "    <tr>\n",
       "      <th>count</th>\n",
       "      <td>9704.000000</td>\n",
       "      <td>9222.000000</td>\n",
       "      <td>8996.000000</td>\n",
       "      <td>9704.000000</td>\n",
       "      <td>8774.000000</td>\n",
       "      <td>9704.000000</td>\n",
       "      <td>9202.000000</td>\n",
       "      <td>9704.000000</td>\n",
       "    </tr>\n",
       "    <tr>\n",
       "      <th>mean</th>\n",
       "      <td>199.708368</td>\n",
       "      <td>3.962481</td>\n",
       "      <td>149.657292</td>\n",
       "      <td>3001.280993</td>\n",
       "      <td>15.021928</td>\n",
       "      <td>2011.484027</td>\n",
       "      <td>-0.006412</td>\n",
       "      <td>14.985243</td>\n",
       "    </tr>\n",
       "    <tr>\n",
       "      <th>std</th>\n",
       "      <td>49.455319</td>\n",
       "      <td>1.999323</td>\n",
       "      <td>29.879555</td>\n",
       "      <td>497.894860</td>\n",
       "      <td>2.510339</td>\n",
       "      <td>6.659808</td>\n",
       "      <td>1.048162</td>\n",
       "      <td>2.556468</td>\n",
       "    </tr>\n",
       "    <tr>\n",
       "      <th>min</th>\n",
       "      <td>10.000000</td>\n",
       "      <td>0.000000</td>\n",
       "      <td>37.000000</td>\n",
       "      <td>952.681761</td>\n",
       "      <td>6.000000</td>\n",
       "      <td>2000.000000</td>\n",
       "      <td>-4.000000</td>\n",
       "      <td>6.200971</td>\n",
       "    </tr>\n",
       "    <tr>\n",
       "      <th>25%</th>\n",
       "      <td>170.000000</td>\n",
       "      <td>3.000000</td>\n",
       "      <td>130.000000</td>\n",
       "      <td>2666.248985</td>\n",
       "      <td>13.300000</td>\n",
       "      <td>2006.000000</td>\n",
       "      <td>-1.000000</td>\n",
       "      <td>13.267459</td>\n",
       "    </tr>\n",
       "    <tr>\n",
       "      <th>50%</th>\n",
       "      <td>200.000000</td>\n",
       "      <td>4.000000</td>\n",
       "      <td>149.000000</td>\n",
       "      <td>2993.226296</td>\n",
       "      <td>15.000000</td>\n",
       "      <td>2012.000000</td>\n",
       "      <td>0.000000</td>\n",
       "      <td>15.006037</td>\n",
       "    </tr>\n",
       "    <tr>\n",
       "      <th>75%</th>\n",
       "      <td>230.000000</td>\n",
       "      <td>5.000000</td>\n",
       "      <td>170.000000</td>\n",
       "      <td>3334.957039</td>\n",
       "      <td>16.700000</td>\n",
       "      <td>2017.000000</td>\n",
       "      <td>1.000000</td>\n",
       "      <td>16.707965</td>\n",
       "    </tr>\n",
       "    <tr>\n",
       "      <th>max</th>\n",
       "      <td>380.000000</td>\n",
       "      <td>13.000000</td>\n",
       "      <td>271.000000</td>\n",
       "      <td>4739.077089</td>\n",
       "      <td>24.300000</td>\n",
       "      <td>2023.000000</td>\n",
       "      <td>4.000000</td>\n",
       "      <td>25.967222</td>\n",
       "    </tr>\n",
       "  </tbody>\n",
       "</table>\n",
       "</div>"
      ],
      "text/plain": [
       "       engine_displacement  num_cylinders   horsepower  vehicle_weight  \\\n",
       "count          9704.000000    9222.000000  8996.000000     9704.000000   \n",
       "mean            199.708368       3.962481   149.657292     3001.280993   \n",
       "std              49.455319       1.999323    29.879555      497.894860   \n",
       "min              10.000000       0.000000    37.000000      952.681761   \n",
       "25%             170.000000       3.000000   130.000000     2666.248985   \n",
       "50%             200.000000       4.000000   149.000000     2993.226296   \n",
       "75%             230.000000       5.000000   170.000000     3334.957039   \n",
       "max             380.000000      13.000000   271.000000     4739.077089   \n",
       "\n",
       "       acceleration   model_year    num_doors  fuel_efficiency_mpg  \n",
       "count   8774.000000  9704.000000  9202.000000          9704.000000  \n",
       "mean      15.021928  2011.484027    -0.006412            14.985243  \n",
       "std        2.510339     6.659808     1.048162             2.556468  \n",
       "min        6.000000  2000.000000    -4.000000             6.200971  \n",
       "25%       13.300000  2006.000000    -1.000000            13.267459  \n",
       "50%       15.000000  2012.000000     0.000000            15.006037  \n",
       "75%       16.700000  2017.000000     1.000000            16.707965  \n",
       "max       24.300000  2023.000000     4.000000            25.967222  "
      ]
     },
     "execution_count": 2,
     "metadata": {},
     "output_type": "execute_result"
    }
   ],
   "source": [
    "#Fetch data\n",
    "url = 'https://raw.githubusercontent.com/alexeygrigorev/datasets/master/car_fuel_efficiency.csv'\n",
    "df = pd.read_csv(url)"
   ]
  },
  {
   "cell_type": "code",
   "execution_count": 4,
   "id": "dea17bdbff251bf2",
   "metadata": {
    "ExecuteTime": {
     "end_time": "2025-09-21T07:55:12.752336Z",
     "start_time": "2025-09-21T07:55:12.727742Z"
    }
   },
   "outputs": [
    {
     "name": "stdout",
     "output_type": "stream",
     "text": [
      "9704\n"
     ]
    }
   ],
   "source": [
    "#Q2 get count\n",
    "\n",
    "row_count = len(df)\n",
    "print(row_count)"
   ]
  },
  {
   "cell_type": "code",
   "execution_count": 11,
   "id": "c52303676b7c7c11",
   "metadata": {
    "ExecuteTime": {
     "end_time": "2025-09-21T08:01:13.006259Z",
     "start_time": "2025-09-21T08:01:12.987719Z"
    }
   },
   "outputs": [
    {
     "name": "stdout",
     "output_type": "stream",
     "text": [
      "fuel_type\n",
      "Gasoline    4898\n",
      "Diesel      4806\n",
      "Name: count, dtype: int64\n"
     ]
    }
   ],
   "source": [
    "#Q3 Get fuel types\n",
    "\n",
    "fuel_type_counts = df['fuel_type'].value_counts()\n",
    "print (fuel_type_counts)"
   ]
  },
  {
   "cell_type": "code",
   "execution_count": 13,
   "id": "611f76e90060dce5",
   "metadata": {
    "ExecuteTime": {
     "end_time": "2025-09-21T08:01:20.099710Z",
     "start_time": "2025-09-21T08:01:20.081852Z"
    }
   },
   "outputs": [
    {
     "name": "stdout",
     "output_type": "stream",
     "text": [
      "2\n"
     ]
    }
   ],
   "source": [
    "print(fuel_type_counts.count())"
   ]
  },
  {
   "cell_type": "code",
   "execution_count": 20,
   "id": "c357ed8ed1d431dd",
   "metadata": {
    "ExecuteTime": {
     "end_time": "2025-09-21T08:07:10.427601Z",
     "start_time": "2025-09-21T08:07:10.388415Z"
    }
   },
   "outputs": [
    {
     "name": "stdout",
     "output_type": "stream",
     "text": [
      "Columns with missing values:\n",
      "num_cylinders\n",
      "horsepower\n",
      "acceleration\n",
      "num_doors\n"
     ]
    }
   ],
   "source": [
    "#Q4 Find count of missing values\n",
    "\n",
    "columns_with_missing_values = df.columns[df.isna().any()]\n",
    "\n",
    "print(\"Columns with missing values:\")\n",
    "for column in columns_with_missing_values:\n",
    "    print(column)"
   ]
  },
  {
   "cell_type": "code",
   "execution_count": 22,
   "id": "3687d4b1120ce33d",
   "metadata": {
    "ExecuteTime": {
     "end_time": "2025-09-21T08:08:46.449393Z",
     "start_time": "2025-09-21T08:08:46.425360Z"
    }
   },
   "outputs": [
    {
     "name": "stdout",
     "output_type": "stream",
     "text": [
      "25.96722204888372\n"
     ]
    }
   ],
   "source": [
    "#Q5 Get Max Fuel Efficiency\n",
    "\n",
    "max_fuel_efficiency = df['fuel_efficiency_mpg'].max()\n",
    "print(max_fuel_efficiency)"
   ]
  },
  {
   "cell_type": "code",
   "execution_count": 24,
   "id": "5ef1a8919bd1cc79",
   "metadata": {
    "ExecuteTime": {
     "end_time": "2025-09-21T08:11:23.314105Z",
     "start_time": "2025-09-21T08:11:23.227582Z"
    }
   },
   "outputs": [
    {
     "name": "stdout",
     "output_type": "stream",
     "text": [
      "149.0\n"
     ]
    }
   ],
   "source": [
    "#Q6 Horsepower\n",
    "\n",
    "#Initial Median\n",
    "median_horsepower = df['horsepower'].median()\n",
    "print(median_horsepower)"
   ]
  },
  {
   "cell_type": "code",
   "execution_count": 28,
   "id": "98cf5cea0f4cb7b9",
   "metadata": {
    "ExecuteTime": {
     "end_time": "2025-09-21T08:12:55.061728Z",
     "start_time": "2025-09-21T08:12:55.052525Z"
    }
   },
   "outputs": [
    {
     "name": "stdout",
     "output_type": "stream",
     "text": [
      "152.0\n"
     ]
    }
   ],
   "source": [
    "#Calculate Most Frequent value of Horsepower - Mode\n",
    "most_frequent_horsepower = df['horsepower'].mode()[0]\n",
    "print(most_frequent_horsepower)"
   ]
  },
  {
   "cell_type": "code",
   "execution_count": 29,
   "id": "d65a91e196e99a23",
   "metadata": {
    "ExecuteTime": {
     "end_time": "2025-09-21T08:13:59.452142Z",
     "start_time": "2025-09-21T08:13:59.397539Z"
    }
   },
   "outputs": [],
   "source": [
    "#Use fillna method to fill the missing values in horsepower column with the most frequent value from the previous step\n",
    "df['horsepower'] = df['horsepower'].fillna(most_frequent_horsepower)"
   ]
  },
  {
   "cell_type": "code",
   "execution_count": 30,
   "id": "9cc15543db61beab",
   "metadata": {
    "ExecuteTime": {
     "end_time": "2025-09-21T08:14:20.453933Z",
     "start_time": "2025-09-21T08:14:20.423543Z"
    }
   },
   "outputs": [
    {
     "name": "stdout",
     "output_type": "stream",
     "text": [
      "152.0\n"
     ]
    }
   ],
   "source": [
    "new_median_horsepower = df['horsepower'].median()\n",
    "print(new_median_horsepower)"
   ]
  },
  {
   "cell_type": "code",
   "execution_count": 42,
   "id": "ec634c92b4408349",
   "metadata": {
    "ExecuteTime": {
     "end_time": "2025-09-21T08:24:09.536696Z",
     "start_time": "2025-09-21T08:24:09.469363Z"
    }
   },
   "outputs": [
    {
     "data": {
      "text/html": [
       "<div>\n",
       "<style scoped>\n",
       "    .dataframe tbody tr th:only-of-type {\n",
       "        vertical-align: middle;\n",
       "    }\n",
       "\n",
       "    .dataframe tbody tr th {\n",
       "        vertical-align: top;\n",
       "    }\n",
       "\n",
       "    .dataframe thead th {\n",
       "        text-align: right;\n",
       "    }\n",
       "</style>\n",
       "<table border=\"1\" class=\"dataframe\">\n",
       "  <thead>\n",
       "    <tr style=\"text-align: right;\">\n",
       "      <th></th>\n",
       "      <th>vehicle_weight</th>\n",
       "      <th>model_year</th>\n",
       "    </tr>\n",
       "  </thead>\n",
       "  <tbody>\n",
       "    <tr>\n",
       "      <th>8</th>\n",
       "      <td>2714.219310</td>\n",
       "      <td>2016</td>\n",
       "    </tr>\n",
       "    <tr>\n",
       "      <th>12</th>\n",
       "      <td>2783.868974</td>\n",
       "      <td>2010</td>\n",
       "    </tr>\n",
       "    <tr>\n",
       "      <th>14</th>\n",
       "      <td>3582.687368</td>\n",
       "      <td>2007</td>\n",
       "    </tr>\n",
       "    <tr>\n",
       "      <th>20</th>\n",
       "      <td>2231.808142</td>\n",
       "      <td>2011</td>\n",
       "    </tr>\n",
       "    <tr>\n",
       "      <th>21</th>\n",
       "      <td>2659.431451</td>\n",
       "      <td>2016</td>\n",
       "    </tr>\n",
       "    <tr>\n",
       "      <th>34</th>\n",
       "      <td>2844.227534</td>\n",
       "      <td>2014</td>\n",
       "    </tr>\n",
       "    <tr>\n",
       "      <th>38</th>\n",
       "      <td>3761.994038</td>\n",
       "      <td>2019</td>\n",
       "    </tr>\n",
       "  </tbody>\n",
       "</table>\n",
       "</div>"
      ],
      "text/plain": [
       "    vehicle_weight  model_year\n",
       "8      2714.219310        2016\n",
       "12     2783.868974        2010\n",
       "14     3582.687368        2007\n",
       "20     2231.808142        2011\n",
       "21     2659.431451        2016\n",
       "34     2844.227534        2014\n",
       "38     3761.994038        2019"
      ]
     },
     "execution_count": 42,
     "metadata": {},
     "output_type": "execute_result"
    }
   ],
   "source": [
    "#Q7\n",
    "cars_from_asia = df[df['origin'] == 'Asia']\n",
    "a_car_wt_yr = cars_from_asia[['vehicle_weight','model_year']]\n",
    "a_car_wt_yr.head(7)"
   ]
  },
  {
   "cell_type": "code",
   "execution_count": 60,
   "id": "b23bbeda75355732",
   "metadata": {
    "ExecuteTime": {
     "end_time": "2025-09-21T08:42:34.470696Z",
     "start_time": "2025-09-21T08:42:34.451612Z"
    }
   },
   "outputs": [
    {
     "name": "stdout",
     "output_type": "stream",
     "text": [
      "\n",
      "Converted NumPy Array:\n",
      "[[2714.21930965 2016.        ]\n",
      " [2783.86897424 2010.        ]\n",
      " [3582.68736772 2007.        ]\n",
      " [2231.8081416  2011.        ]\n",
      " [2659.43145076 2016.        ]\n",
      " [2844.22753389 2014.        ]\n",
      " [3761.99403819 2019.        ]]\n"
     ]
    }
   ],
   "source": [
    "#Get numpy array\n",
    "import numpy as np\n",
    "\n",
    "numpy_array_x = a_car_wt_yr.head(7).to_numpy()\n",
    "print(\"\\nConverted NumPy Array:\")\n",
    "print(numpy_array_x)"
   ]
  },
  {
   "cell_type": "code",
   "execution_count": 61,
   "id": "9d1095236c647777",
   "metadata": {
    "ExecuteTime": {
     "end_time": "2025-09-21T08:42:37.517069Z",
     "start_time": "2025-09-21T08:42:37.513710Z"
    }
   },
   "outputs": [
    {
     "name": "stdout",
     "output_type": "stream",
     "text": [
      "7\n"
     ]
    }
   ],
   "source": [
    "print(len(numpy_array_x))"
   ]
  },
  {
   "cell_type": "code",
   "execution_count": 62,
   "id": "1ad75c360d11e4df",
   "metadata": {
    "ExecuteTime": {
     "end_time": "2025-09-21T08:42:41.684710Z",
     "start_time": "2025-09-21T08:42:41.670087Z"
    }
   },
   "outputs": [],
   "source": [
    "numpy_array_x_transpose = numpy_array_x.T\n",
    "\n",
    "xtx = np.matmul(numpy_array_x_transpose, numpy_array_x)\n",
    "\n",
    "xtx_inv = np.linalg.inv(xtx)\n",
    "\n",
    "np_array_y = np.array([1100, 1300, 800, 900, 1000, 1100, 1200])"
   ]
  },
  {
   "cell_type": "code",
   "execution_count": 63,
   "id": "2cec251c5c46553c",
   "metadata": {
    "ExecuteTime": {
     "end_time": "2025-09-21T08:42:43.908227Z",
     "start_time": "2025-09-21T08:42:43.902090Z"
    }
   },
   "outputs": [],
   "source": [
    "inv_trans_mul = np.matmul(xtx_inv,numpy_array_x_transpose)\n",
    "\n",
    "w_arr = np.matmul(inv_trans_mul, np_array_y.T)"
   ]
  },
  {
   "cell_type": "code",
   "execution_count": 65,
   "id": "1dc76d88044e6286",
   "metadata": {
    "ExecuteTime": {
     "end_time": "2025-09-21T08:43:32.103358Z",
     "start_time": "2025-09-21T08:43:32.095002Z"
    }
   },
   "outputs": [
    {
     "name": "stdout",
     "output_type": "stream",
     "text": [
      "0.5187709081074006\n"
     ]
    }
   ],
   "source": [
    "sum_of_elem = w_arr.sum()\n",
    "print(sum_of_elem)"
   ]
  }
 ],
 "metadata": {
  "kernelspec": {
   "display_name": "Python 3 (ipykernel)",
   "language": "python",
   "name": "python3"
  },
  "language_info": {
   "codemirror_mode": {
    "name": "ipython",
    "version": 3
   },
   "file_extension": ".py",
   "mimetype": "text/x-python",
   "name": "python",
   "nbconvert_exporter": "python",
   "pygments_lexer": "ipython3",
   "version": "3.9.6"
  }
 },
 "nbformat": 4,
 "nbformat_minor": 5
}
