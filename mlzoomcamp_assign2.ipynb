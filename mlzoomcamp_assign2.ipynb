{
 "cells": [
  {
   "cell_type": "code",
   "id": "initial_id",
   "metadata": {
    "collapsed": true,
    "ExecuteTime": {
     "end_time": "2025-10-07T15:23:16.870317Z",
     "start_time": "2025-10-07T15:23:15.834906Z"
    }
   },
   "source": "!pip install duckdb",
   "outputs": [
    {
     "name": "stdout",
     "output_type": "stream",
     "text": [
      "Requirement already satisfied: duckdb in ./.venv/lib/python3.9/site-packages (1.3.1)\r\n",
      "\r\n",
      "\u001B[1m[\u001B[0m\u001B[34;49mnotice\u001B[0m\u001B[1;39;49m]\u001B[0m\u001B[39;49m A new release of pip is available: \u001B[0m\u001B[31;49m25.0.1\u001B[0m\u001B[39;49m -> \u001B[0m\u001B[32;49m25.2\u001B[0m\r\n",
      "\u001B[1m[\u001B[0m\u001B[34;49mnotice\u001B[0m\u001B[1;39;49m]\u001B[0m\u001B[39;49m To update, run: \u001B[0m\u001B[32;49mpip install --upgrade pip\u001B[0m\r\n"
     ]
    }
   ],
   "execution_count": 1
  },
  {
   "metadata": {
    "ExecuteTime": {
     "end_time": "2025-10-07T15:26:43.071309Z",
     "start_time": "2025-10-07T15:26:42.823800Z"
    }
   },
   "cell_type": "code",
   "source": [
    "import duckdb\n",
    "conn = duckdb.connect()\n",
    "query = '''\n",
    "SELECT *\n",
    "FROM read_csv_auto('https://raw.githubusercontent.com/alexeygrigorev/datasets/master/car_fuel_efficiency.csv')\n",
    "'''\n",
    "df = conn.execute(query).df()"
   ],
   "id": "365a63e8be2e1f22",
   "outputs": [],
   "execution_count": 6
  },
  {
   "metadata": {
    "ExecuteTime": {
     "end_time": "2025-10-07T15:27:04.690953Z",
     "start_time": "2025-10-07T15:27:04.649482Z"
    }
   },
   "cell_type": "code",
   "source": "df.describe()",
   "id": "3d3d4dd14888d864",
   "outputs": [
    {
     "data": {
      "text/plain": [
       "       engine_displacement  num_cylinders  horsepower  vehicle_weight  \\\n",
       "count          9704.000000         9222.0      8996.0     9704.000000   \n",
       "mean            199.708368       3.962481  149.657292     3001.280993   \n",
       "std              49.455319       1.999323   29.879555      497.894860   \n",
       "min              10.000000            0.0        37.0      952.681761   \n",
       "25%             170.000000            3.0       130.0     2666.248985   \n",
       "50%             200.000000            4.0       149.0     2993.226296   \n",
       "75%             230.000000            5.0       170.0     3334.957039   \n",
       "max             380.000000           13.0       271.0     4739.077089   \n",
       "\n",
       "       acceleration   model_year  num_doors  fuel_efficiency_mpg  \n",
       "count   8774.000000  9704.000000     9202.0          9704.000000  \n",
       "mean      15.021928  2011.484027  -0.006412            14.985243  \n",
       "std        2.510339     6.659808   1.048162             2.556468  \n",
       "min        6.000000  2000.000000       -4.0             6.200971  \n",
       "25%       13.300000  2006.000000       -1.0            13.267459  \n",
       "50%       15.000000  2012.000000        0.0            15.006037  \n",
       "75%       16.700000  2017.000000        1.0            16.707965  \n",
       "max       24.300000  2023.000000        4.0            25.967222  "
      ],
      "text/html": [
       "<div>\n",
       "<style scoped>\n",
       "    .dataframe tbody tr th:only-of-type {\n",
       "        vertical-align: middle;\n",
       "    }\n",
       "\n",
       "    .dataframe tbody tr th {\n",
       "        vertical-align: top;\n",
       "    }\n",
       "\n",
       "    .dataframe thead th {\n",
       "        text-align: right;\n",
       "    }\n",
       "</style>\n",
       "<table border=\"1\" class=\"dataframe\">\n",
       "  <thead>\n",
       "    <tr style=\"text-align: right;\">\n",
       "      <th></th>\n",
       "      <th>engine_displacement</th>\n",
       "      <th>num_cylinders</th>\n",
       "      <th>horsepower</th>\n",
       "      <th>vehicle_weight</th>\n",
       "      <th>acceleration</th>\n",
       "      <th>model_year</th>\n",
       "      <th>num_doors</th>\n",
       "      <th>fuel_efficiency_mpg</th>\n",
       "    </tr>\n",
       "  </thead>\n",
       "  <tbody>\n",
       "    <tr>\n",
       "      <th>count</th>\n",
       "      <td>9704.000000</td>\n",
       "      <td>9222.0</td>\n",
       "      <td>8996.0</td>\n",
       "      <td>9704.000000</td>\n",
       "      <td>8774.000000</td>\n",
       "      <td>9704.000000</td>\n",
       "      <td>9202.0</td>\n",
       "      <td>9704.000000</td>\n",
       "    </tr>\n",
       "    <tr>\n",
       "      <th>mean</th>\n",
       "      <td>199.708368</td>\n",
       "      <td>3.962481</td>\n",
       "      <td>149.657292</td>\n",
       "      <td>3001.280993</td>\n",
       "      <td>15.021928</td>\n",
       "      <td>2011.484027</td>\n",
       "      <td>-0.006412</td>\n",
       "      <td>14.985243</td>\n",
       "    </tr>\n",
       "    <tr>\n",
       "      <th>std</th>\n",
       "      <td>49.455319</td>\n",
       "      <td>1.999323</td>\n",
       "      <td>29.879555</td>\n",
       "      <td>497.894860</td>\n",
       "      <td>2.510339</td>\n",
       "      <td>6.659808</td>\n",
       "      <td>1.048162</td>\n",
       "      <td>2.556468</td>\n",
       "    </tr>\n",
       "    <tr>\n",
       "      <th>min</th>\n",
       "      <td>10.000000</td>\n",
       "      <td>0.0</td>\n",
       "      <td>37.0</td>\n",
       "      <td>952.681761</td>\n",
       "      <td>6.000000</td>\n",
       "      <td>2000.000000</td>\n",
       "      <td>-4.0</td>\n",
       "      <td>6.200971</td>\n",
       "    </tr>\n",
       "    <tr>\n",
       "      <th>25%</th>\n",
       "      <td>170.000000</td>\n",
       "      <td>3.0</td>\n",
       "      <td>130.0</td>\n",
       "      <td>2666.248985</td>\n",
       "      <td>13.300000</td>\n",
       "      <td>2006.000000</td>\n",
       "      <td>-1.0</td>\n",
       "      <td>13.267459</td>\n",
       "    </tr>\n",
       "    <tr>\n",
       "      <th>50%</th>\n",
       "      <td>200.000000</td>\n",
       "      <td>4.0</td>\n",
       "      <td>149.0</td>\n",
       "      <td>2993.226296</td>\n",
       "      <td>15.000000</td>\n",
       "      <td>2012.000000</td>\n",
       "      <td>0.0</td>\n",
       "      <td>15.006037</td>\n",
       "    </tr>\n",
       "    <tr>\n",
       "      <th>75%</th>\n",
       "      <td>230.000000</td>\n",
       "      <td>5.0</td>\n",
       "      <td>170.0</td>\n",
       "      <td>3334.957039</td>\n",
       "      <td>16.700000</td>\n",
       "      <td>2017.000000</td>\n",
       "      <td>1.0</td>\n",
       "      <td>16.707965</td>\n",
       "    </tr>\n",
       "    <tr>\n",
       "      <th>max</th>\n",
       "      <td>380.000000</td>\n",
       "      <td>13.0</td>\n",
       "      <td>271.0</td>\n",
       "      <td>4739.077089</td>\n",
       "      <td>24.300000</td>\n",
       "      <td>2023.000000</td>\n",
       "      <td>4.0</td>\n",
       "      <td>25.967222</td>\n",
       "    </tr>\n",
       "  </tbody>\n",
       "</table>\n",
       "</div>"
      ]
     },
     "execution_count": 8,
     "metadata": {},
     "output_type": "execute_result"
    }
   ],
   "execution_count": 8
  },
  {
   "metadata": {
    "ExecuteTime": {
     "end_time": "2025-10-07T15:31:40.975604Z",
     "start_time": "2025-10-07T15:31:40.900800Z"
    }
   },
   "cell_type": "code",
   "source": [
    "filtered_df = df[['engine_displacement', 'horsepower', 'vehicle_weight', 'model_year', 'fuel_efficiency_mpg']]\n",
    "filtered_df.describe()"
   ],
   "id": "ec0cf15ce7ae506b",
   "outputs": [
    {
     "data": {
      "text/plain": [
       "       engine_displacement  horsepower  vehicle_weight   model_year  \\\n",
       "count          9704.000000      8996.0     9704.000000  9704.000000   \n",
       "mean            199.708368  149.657292     3001.280993  2011.484027   \n",
       "std              49.455319   29.879555      497.894860     6.659808   \n",
       "min              10.000000        37.0      952.681761  2000.000000   \n",
       "25%             170.000000       130.0     2666.248985  2006.000000   \n",
       "50%             200.000000       149.0     2993.226296  2012.000000   \n",
       "75%             230.000000       170.0     3334.957039  2017.000000   \n",
       "max             380.000000       271.0     4739.077089  2023.000000   \n",
       "\n",
       "       fuel_efficiency_mpg  \n",
       "count          9704.000000  \n",
       "mean             14.985243  \n",
       "std               2.556468  \n",
       "min               6.200971  \n",
       "25%              13.267459  \n",
       "50%              15.006037  \n",
       "75%              16.707965  \n",
       "max              25.967222  "
      ],
      "text/html": [
       "<div>\n",
       "<style scoped>\n",
       "    .dataframe tbody tr th:only-of-type {\n",
       "        vertical-align: middle;\n",
       "    }\n",
       "\n",
       "    .dataframe tbody tr th {\n",
       "        vertical-align: top;\n",
       "    }\n",
       "\n",
       "    .dataframe thead th {\n",
       "        text-align: right;\n",
       "    }\n",
       "</style>\n",
       "<table border=\"1\" class=\"dataframe\">\n",
       "  <thead>\n",
       "    <tr style=\"text-align: right;\">\n",
       "      <th></th>\n",
       "      <th>engine_displacement</th>\n",
       "      <th>horsepower</th>\n",
       "      <th>vehicle_weight</th>\n",
       "      <th>model_year</th>\n",
       "      <th>fuel_efficiency_mpg</th>\n",
       "    </tr>\n",
       "  </thead>\n",
       "  <tbody>\n",
       "    <tr>\n",
       "      <th>count</th>\n",
       "      <td>9704.000000</td>\n",
       "      <td>8996.0</td>\n",
       "      <td>9704.000000</td>\n",
       "      <td>9704.000000</td>\n",
       "      <td>9704.000000</td>\n",
       "    </tr>\n",
       "    <tr>\n",
       "      <th>mean</th>\n",
       "      <td>199.708368</td>\n",
       "      <td>149.657292</td>\n",
       "      <td>3001.280993</td>\n",
       "      <td>2011.484027</td>\n",
       "      <td>14.985243</td>\n",
       "    </tr>\n",
       "    <tr>\n",
       "      <th>std</th>\n",
       "      <td>49.455319</td>\n",
       "      <td>29.879555</td>\n",
       "      <td>497.894860</td>\n",
       "      <td>6.659808</td>\n",
       "      <td>2.556468</td>\n",
       "    </tr>\n",
       "    <tr>\n",
       "      <th>min</th>\n",
       "      <td>10.000000</td>\n",
       "      <td>37.0</td>\n",
       "      <td>952.681761</td>\n",
       "      <td>2000.000000</td>\n",
       "      <td>6.200971</td>\n",
       "    </tr>\n",
       "    <tr>\n",
       "      <th>25%</th>\n",
       "      <td>170.000000</td>\n",
       "      <td>130.0</td>\n",
       "      <td>2666.248985</td>\n",
       "      <td>2006.000000</td>\n",
       "      <td>13.267459</td>\n",
       "    </tr>\n",
       "    <tr>\n",
       "      <th>50%</th>\n",
       "      <td>200.000000</td>\n",
       "      <td>149.0</td>\n",
       "      <td>2993.226296</td>\n",
       "      <td>2012.000000</td>\n",
       "      <td>15.006037</td>\n",
       "    </tr>\n",
       "    <tr>\n",
       "      <th>75%</th>\n",
       "      <td>230.000000</td>\n",
       "      <td>170.0</td>\n",
       "      <td>3334.957039</td>\n",
       "      <td>2017.000000</td>\n",
       "      <td>16.707965</td>\n",
       "    </tr>\n",
       "    <tr>\n",
       "      <th>max</th>\n",
       "      <td>380.000000</td>\n",
       "      <td>271.0</td>\n",
       "      <td>4739.077089</td>\n",
       "      <td>2023.000000</td>\n",
       "      <td>25.967222</td>\n",
       "    </tr>\n",
       "  </tbody>\n",
       "</table>\n",
       "</div>"
      ]
     },
     "execution_count": 11,
     "metadata": {},
     "output_type": "execute_result"
    }
   ],
   "execution_count": 11
  },
  {
   "metadata": {
    "ExecuteTime": {
     "end_time": "2025-10-07T15:49:34.742583Z",
     "start_time": "2025-10-07T15:49:30.892867Z"
    }
   },
   "cell_type": "code",
   "source": [
    "import seaborn as sns\n",
    "import numpy as np\n",
    "\n",
    "sns.histplot(np.log(filtered_df['fuel_efficiency_mpg']), bins=50)"
   ],
   "id": "1f8b520fa5344c74",
   "outputs": [
    {
     "data": {
      "text/plain": [
       "<Axes: xlabel='fuel_efficiency_mpg', ylabel='Count'>"
      ]
     },
     "execution_count": 20,
     "metadata": {},
     "output_type": "execute_result"
    },
    {
     "data": {
      "text/plain": [
       "<Figure size 640x480 with 1 Axes>"
      ],
      "image/png": "[encoded data removed]"
     },
     "metadata": {},
     "output_type": "display_data"
    }
   ],
   "execution_count": 20
  },
  {
   "metadata": {
    "ExecuteTime": {
     "end_time": "2025-10-07T15:33:38.670027Z",
     "start_time": "2025-10-07T15:33:38.634267Z"
    }
   },
   "cell_type": "code",
   "source": [
    "#Q1\n",
    "filtered_df.isnull().sum()"
   ],
   "id": "9ef8a48bce4ac926",
   "outputs": [
    {
     "data": {
      "text/plain": [
       "engine_displacement      0\n",
       "horsepower             708\n",
       "vehicle_weight           0\n",
       "model_year               0\n",
       "fuel_efficiency_mpg      0\n",
       "dtype: int64"
      ]
     },
     "execution_count": 12,
     "metadata": {},
     "output_type": "execute_result"
    }
   ],
   "execution_count": 12
  },
  {
   "metadata": {
    "ExecuteTime": {
     "end_time": "2025-10-07T15:35:43.299511Z",
     "start_time": "2025-10-07T15:35:43.273150Z"
    }
   },
   "cell_type": "code",
   "source": [
    "#Q2\n",
    "filtered_df['horsepower'].median()"
   ],
   "id": "78566d050da3823d",
   "outputs": [
    {
     "data": {
      "text/plain": [
       "np.float64(149.0)"
      ]
     },
     "execution_count": 13,
     "metadata": {},
     "output_type": "execute_result"
    }
   ],
   "execution_count": 13
  },
  {
   "metadata": {
    "ExecuteTime": {
     "end_time": "2025-10-07T15:39:14.240191Z",
     "start_time": "2025-10-07T15:39:14.211456Z"
    }
   },
   "cell_type": "code",
   "source": [
    "n = len(filtered_df)\n",
    "\n",
    "n_val = int(n * 0.2)\n",
    "n_test = int(n * 0.2)\n",
    "n_train = n - n_val - n_test"
   ],
   "id": "3158eb0563cf7168",
   "outputs": [],
   "execution_count": 14
  },
  {
   "metadata": {
    "ExecuteTime": {
     "end_time": "2025-10-07T15:39:42.383115Z",
     "start_time": "2025-10-07T15:39:42.361038Z"
    }
   },
   "cell_type": "code",
   "source": "n",
   "id": "546b6a4d4e637eeb",
   "outputs": [
    {
     "data": {
      "text/plain": [
       "9704"
      ]
     },
     "execution_count": 15,
     "metadata": {},
     "output_type": "execute_result"
    }
   ],
   "execution_count": 15
  },
  {
   "metadata": {
    "ExecuteTime": {
     "end_time": "2025-10-07T15:40:04.104889Z",
     "start_time": "2025-10-07T15:40:04.093289Z"
    }
   },
   "cell_type": "code",
   "source": "n_val, n_test, n_train",
   "id": "a09ae452beab413c",
   "outputs": [
    {
     "data": {
      "text/plain": [
       "(1940, 1940, 5824)"
      ]
     },
     "execution_count": 16,
     "metadata": {},
     "output_type": "execute_result"
    }
   ],
   "execution_count": 16
  },
  {
   "metadata": {
    "ExecuteTime": {
     "end_time": "2025-10-07T15:41:27.203264Z",
     "start_time": "2025-10-07T15:41:27.179097Z"
    }
   },
   "cell_type": "code",
   "source": [
    "idx = np.arange(n)\n",
    "np.random.seed(42)\n",
    "np.random.shuffle(idx)"
   ],
   "id": "6a6d7fd6986ab2ed",
   "outputs": [],
   "execution_count": 18
  },
  {
   "metadata": {
    "ExecuteTime": {
     "end_time": "2025-10-07T15:42:21.164546Z",
     "start_time": "2025-10-07T15:42:21.094431Z"
    }
   },
   "cell_type": "code",
   "source": [
    "# Shuffle dataset\n",
    "df_train = filtered_df.iloc[idx[:n_train]]\n",
    "df_val   = filtered_df.iloc[idx[n_train: n_train+n_val]]\n",
    "df_test  = filtered_df.iloc[idx[n_train+n_val:]]\n",
    "\n",
    "print(df_train.shape, df_val.shape, df_test.shape)"
   ],
   "id": "8cde3753149c3496",
   "outputs": [
    {
     "name": "stdout",
     "output_type": "stream",
     "text": [
      "(5824, 5) (1940, 5) (1940, 5)\n"
     ]
    }
   ],
   "execution_count": 19
  },
  {
   "metadata": {
    "ExecuteTime": {
     "end_time": "2025-10-07T15:50:30.460229Z",
     "start_time": "2025-10-07T15:50:30.429954Z"
    }
   },
   "cell_type": "code",
   "source": [
    "y_train = np.log1p(df_train[\"fuel_efficiency_mpg\"])\n",
    "y_val   = np.log1p(df_val[\"fuel_efficiency_mpg\"])\n",
    "y_test  = np.log1p(df_test[\"fuel_efficiency_mpg\"])"
   ],
   "id": "ec5c45509e3c2079",
   "outputs": [],
   "execution_count": 21
  },
  {
   "metadata": {
    "ExecuteTime": {
     "end_time": "2025-10-07T19:30:20.988953Z",
     "start_time": "2025-10-07T19:30:20.962612Z"
    }
   },
   "cell_type": "code",
   "source": [
    "def train_linear_regression(X, y):\n",
    "    ones = np.ones(X.shape[0])\n",
    "    X = np.column_stack([ones, X])\n",
    "\n",
    "    XTX = X.T.dot(X)\n",
    "    XTX_inv = np.linalg.inv(XTX.astype(np.float64))\n",
    "    w_full = XTX_inv.dot(X.T).dot(y)\n",
    "\n",
    "    return w_full[0], w_full[1:]"
   ],
   "id": "ebad4ec3f6f79b43",
   "outputs": [],
   "execution_count": 27
  },
  {
   "metadata": {
    "ExecuteTime": {
     "end_time": "2025-10-07T19:15:22.834384Z",
     "start_time": "2025-10-07T19:15:22.721562Z"
    }
   },
   "cell_type": "code",
   "source": [
    "mean_horsepower = int(df_train[\"horsepower\"].mean())\n",
    "mean_horsepower"
   ],
   "id": "9e0ab1ad8d72be09",
   "outputs": [
    {
     "data": {
      "text/plain": [
       "149"
      ]
     },
     "execution_count": 23,
     "metadata": {},
     "output_type": "execute_result"
    }
   ],
   "execution_count": 23
  },
  {
   "metadata": {
    "ExecuteTime": {
     "end_time": "2025-10-07T19:18:10.631055Z",
     "start_time": "2025-10-07T19:18:10.591795Z"
    }
   },
   "cell_type": "code",
   "source": [
    "def prepare_X_vals(df, insert_zeroes=True):\n",
    "    df = df.copy()\n",
    "    if (insert_zeroes):\n",
    "        df = df.fillna(0.0)\n",
    "    else:\n",
    "        df = df.fillna(mean_horsepower)\n",
    "    X = df.values\n",
    "    return X\n",
    "\n",
    "def rsme(y, y_pred):\n",
    "    sqerror = (y - y_pred)**2\n",
    "    mse = sqerror.mean()\n",
    "    return np.sqrt(mse)"
   ],
   "id": "9ef4c34af0d6c12e",
   "outputs": [],
   "execution_count": 24
  },
  {
   "metadata": {
    "ExecuteTime": {
     "end_time": "2025-10-07T19:30:26.468141Z",
     "start_time": "2025-10-07T19:30:26.404825Z"
    }
   },
   "cell_type": "code",
   "source": [
    "X_train = prepare_X_vals(df_train, True)\n",
    "\n",
    "# Train model\n",
    "w0, w = train_linear_regression(X_train, y_train)\n",
    "\n",
    "# Get Prediction on validation dataset\n",
    "X_val = prepare_X_vals(df_val, True)\n",
    "y_pred = w0 + X_val.dot(w)\n",
    "\n",
    "# Compute Metrics\n",
    "round(rsme(y_pred, y_val),2), rsme(y_pred, y_val)"
   ],
   "id": "7a7184c27e8d4a6b",
   "outputs": [
    {
     "data": {
      "text/plain": [
       "(np.float64(0.02), np.float64(0.022678889496995692))"
      ]
     },
     "execution_count": 28,
     "metadata": {},
     "output_type": "execute_result"
    }
   ],
   "execution_count": 28
  },
  {
   "metadata": {
    "ExecuteTime": {
     "end_time": "2025-10-07T19:32:56.155826Z",
     "start_time": "2025-10-07T19:32:56.072801Z"
    }
   },
   "cell_type": "code",
   "source": [
    "X_train = prepare_X_vals(df_train, False)\n",
    "w0, w = train_linear_regression(X_train, y_train)\n",
    "\n",
    "# Train model\n",
    "w0, w = train_linear_regression(X_train, y_train)\n",
    "\n",
    "# Get Prediction on validation dataset\n",
    "X_val = prepare_X_vals(df_val, False)\n",
    "y_pred = w0 + X_val.dot(w)\n",
    "\n",
    "# Compute Metrics\n",
    "round(rsme(y_pred, y_val),2), rsme(y_pred, y_val)"
   ],
   "id": "3ffe3fd2be07c744",
   "outputs": [
    {
     "data": {
      "text/plain": [
       "(np.float64(0.02), np.float64(0.022670750750490163))"
      ]
     },
     "execution_count": 29,
     "metadata": {},
     "output_type": "execute_result"
    }
   ],
   "execution_count": 29
  },
  {
   "metadata": {},
   "cell_type": "code",
   "outputs": [],
   "execution_count": null,
   "source": "#Q3 Both filling 0s and filling with mean gives the same values",
   "id": "6a52db6b4c348c77"
  },
  {
   "metadata": {
    "ExecuteTime": {
     "end_time": "2025-10-07T19:35:21.186037Z",
     "start_time": "2025-10-07T19:35:21.154675Z"
    }
   },
   "cell_type": "code",
   "source": [
    "#Q4\n",
    "def train_linear_regression_reg(X, y, r=0.001):\n",
    "    ones = np.ones(X.shape[0])\n",
    "    X = np.column_stack([ones, X])\n",
    "\n",
    "    XTX = X.T.dot(X)\n",
    "    XTX = XTX + r*np.eye(XTX.shape[0])\n",
    "    XTX_inv = np.linalg.inv(XTX.astype(np.float64))\n",
    "    w_full = XTX_inv.dot(X.T).dot(y)\n",
    "\n",
    "    return w_full[0], w_full[1:]"
   ],
   "id": "bea9e2b23404a14a",
   "outputs": [],
   "execution_count": 30
  },
  {
   "metadata": {
    "ExecuteTime": {
     "end_time": "2025-10-07T19:37:41.093640Z",
     "start_time": "2025-10-07T19:37:40.978314Z"
    }
   },
   "cell_type": "code",
   "source": [
    "# Prepare X-data\n",
    "X_train = prepare_X_vals(df_train, True)\n",
    "\n",
    "for r in [0, 0.01, 0.1, 1, 5, 10, 100]:\n",
    "\n",
    "    # Train model\n",
    "    w0, w = train_linear_regression_reg(X_train, y_train, r)\n",
    "\n",
    "    # Get Prediction on validation dataset\n",
    "    X_val = prepare_X_vals(df_val, True)\n",
    "    y_pred = w0 + X_val.dot(w)\n",
    "\n",
    "    # Compute Metrics\n",
    "    print(r, round(rsme(y_pred, y_val),2), rsme(y_pred, y_val))"
   ],
   "id": "2e020b38f908375d",
   "outputs": [
    {
     "name": "stdout",
     "output_type": "stream",
     "text": [
      "0 0.02 0.022678889496995692\n",
      "0.01 0.02 0.022706868694212824\n",
      "0.1 0.02 0.023027888786589717\n",
      "1 0.02 0.02343611269212172\n",
      "5 0.02 0.02350374258483359\n",
      "10 0.02 0.02351052918872038\n",
      "100 0.02 0.023547273431053135\n"
     ]
    }
   ],
   "execution_count": 32
  },
  {
   "metadata": {
    "ExecuteTime": {
     "end_time": "2025-10-07T19:44:49.433102Z",
     "start_time": "2025-10-07T19:44:49.387428Z"
    }
   },
   "cell_type": "code",
   "source": [
    "def prep_data(df, seed):\n",
    "    n = len(df)\n",
    "\n",
    "    n_val = int(n*0.2)\n",
    "    n_test = int(n*0.2)\n",
    "    n_train = n - n_val - n_test\n",
    "\n",
    "    idx = np.arange(n)\n",
    "    np.random.seed(seed)\n",
    "    np.random.shuffle(idx)\n",
    "\n",
    "    df_train = df.iloc[idx[:n_train]]\n",
    "    df_val   = df.iloc[idx[n_train: n_train+n_val]]\n",
    "    df_test  = df.iloc[idx[n_train+n_val:]]\n",
    "\n",
    "    y_train = np.log1p(df_train[\"fuel_efficiency_mpg\"])\n",
    "    y_val   = np.log1p(df_val[\"fuel_efficiency_mpg\"])\n",
    "    y_test  = np.log1p(df_test[\"fuel_efficiency_mpg\"])\n",
    "\n",
    "    return df_train, df_val, df_test, y_train, y_val, y_test"
   ],
   "id": "7098f294d9c14270",
   "outputs": [],
   "execution_count": 33
  },
  {
   "metadata": {
    "ExecuteTime": {
     "end_time": "2025-10-07T19:44:51.486285Z",
     "start_time": "2025-10-07T19:44:51.288816Z"
    }
   },
   "cell_type": "code",
   "source": [
    "rsme_list = []\n",
    "\n",
    "for seed in range(0,10):\n",
    "    df_train, df_val, df_test, y_train, y_val, y_test = prep_data(filtered_df, seed)\n",
    "\n",
    "    # Model training using Train Dataset\n",
    "    X_train = prepare_X_vals(df_train, True)\n",
    "    w0, w = train_linear_regression(X_train, y_train)\n",
    "\n",
    "    # Get Prediction on validation dataset\n",
    "    X_val = prepare_X_vals(df_val, True)\n",
    "    y_pred = w0 + X_val.dot(w)\n",
    "\n",
    "    # Compute Metrics\n",
    "    score = rsme(y_pred, y_val)\n",
    "    rsme_list.append(score)\n",
    "    print(seed, score, rsme(y_pred, y_val))\n",
    "\n",
    "# compute std of rsmes\n",
    "print(round(np.std(rsme_list), 3))"
   ],
   "id": "c2c681d4f4cd4b78",
   "outputs": [
    {
     "name": "stdout",
     "output_type": "stream",
     "text": [
      "0 0.018829525546763794 0.018829525546763794\n",
      "1 0.019508261903268778 0.019508261903268778\n",
      "2 0.01962378493668493 0.01962378493668493\n",
      "3 0.019871765567191727 0.019871765567191727\n",
      "4 0.017995077880838456 0.017995077880838456\n",
      "5 0.01911132800474876 0.01911132800474876\n",
      "6 0.019153881021998036 0.019153881021998036\n",
      "7 0.019082110339966277 0.019082110339966277\n",
      "8 0.02089583226834099 0.02089583226834099\n",
      "9 0.01891012266444553 0.01891012266444553\n",
      "0.001\n"
     ]
    }
   ],
   "execution_count": 34
  },
  {
   "metadata": {
    "ExecuteTime": {
     "end_time": "2025-10-07T19:47:32.225478Z",
     "start_time": "2025-10-07T19:47:32.115263Z"
    }
   },
   "cell_type": "code",
   "source": [
    "#Q6\n",
    "import pandas as pd\n",
    "\n",
    "seed = 9\n",
    "\n",
    "df_train, df_val, df_test, y_train, y_val, y_test = prep_data(filtered_df, seed)\n",
    "\n",
    "df_train_full = pd.concat([df_train, df_val])\n",
    "y_train_full  = np.concatenate([y_train, y_val])\n",
    "\n",
    "X_train_full = prepare_X_vals(df_train_full, True)\n",
    "w0, w = train_linear_regression_reg(X_train_full, y_train_full, r=0.001)\n",
    "\n",
    "# Get Prediction on validation dataset\n",
    "X_test = prepare_X_vals(df_test, True)\n",
    "y_pred = w0 + X_test.dot(w)\n",
    "\n",
    "# Compute Metrics\n",
    "score = rsme(y_pred, y_test)\n",
    "print(seed, score)"
   ],
   "id": "3f3ee6383b8949b3",
   "outputs": [
    {
     "name": "stdout",
     "output_type": "stream",
     "text": [
      "9 0.020278875175198705\n"
     ]
    }
   ],
   "execution_count": 37
  }
 ],
 "metadata": {
  "kernelspec": {
   "display_name": "Python 3",
   "language": "python",
   "name": "python3"
  },
  "language_info": {
   "codemirror_mode": {
    "name": "ipython",
    "version": 2
   },
   "file_extension": ".py",
   "mimetype": "text/x-python",
   "name": "python",
   "nbconvert_exporter": "python",
   "pygments_lexer": "ipython2",
   "version": "2.7.6"
  }
 },
 "nbformat": 4,
 "nbformat_minor": 5
}
